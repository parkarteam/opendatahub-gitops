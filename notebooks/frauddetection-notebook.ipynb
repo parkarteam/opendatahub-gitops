{
 "cells": [
  {
   "cell_type": "code",
   "execution_count": 44,
   "metadata": {},
   "outputs": [
    {
     "name": "stdout",
     "output_type": "stream",
     "text": [
      "Requirement already satisfied: findspark in /opt/app-root/lib/python3.6/site-packages (1.4.2)\n",
      "\u001b[33mWARNING: You are using pip version 20.0.2; however, version 20.2 is available.\n",
      "You should consider upgrading via the '/opt/app-root/bin/python3 -m pip install --upgrade pip' command.\u001b[0m\n",
      "3.1413136\n"
     ]
    }
   ],
   "source": [
    "!pip install findspark\n",
    "# useful to have this code snippet to avoid getting an error in case forgeting \n",
    "# to close spark\n",
    "\n",
    "try:\n",
    "    sc.stop()\n",
    "except:\n",
    "    pass\n",
    "\n",
    "# Using findspark to find automatically the spark folder\n",
    "import findspark\n",
    "findspark.init()\n",
    "\n",
    "# import python libraries\n",
    "import random\n",
    "\n",
    "# initialize\n",
    "from pyspark.sql import SparkSession \n",
    "sc = SparkSession.builder.master(\"local[*]\").getOrCreate()\n",
    "num_samples = 100000000\n",
    "\n",
    "def inside(p):\n",
    "    x, y = random.random(), random.random()\n",
    "    return x*x + y*y < 1\n",
    "\n",
    "count = sc.sparkContext.parallelize(range(0, num_samples)).filter(inside).count()\n",
    "pi = 4 * count / num_samples\n",
    "print(pi)"
   ]
  },
  {
   "cell_type": "code",
   "execution_count": 43,
   "metadata": {},
   "outputs": [],
   "source": [
    "sc.stop()"
   ]
  },
  {
   "cell_type": "code",
   "execution_count": 45,
   "metadata": {},
   "outputs": [],
   "source": [
    "import os\n",
    "os.environ['PYSPARK_SUBMIT_ARGS'] = '--packages com.amazonaws:aws-java-sdk:1.7.4,org.apache.hadoop:hadoop-aws:2.7.6 pyspark-shell' "
   ]
  },
  {
   "cell_type": "code",
   "execution_count": 46,
   "metadata": {},
   "outputs": [],
   "source": [
    "import boto3\n",
    "s3_endpoint_url = 'http://13.67.138.157:8000'\n",
    "\n",
    "s3_access_key = 'opendatahub'\n",
    "s3_secret_key = 'b3BlbmRhdGFodWI='\n",
    "#s3_bucket = os.environ['BUCKET']\n",
    "s3_bucket=\"frauddetection\"\n",
    "\n",
    "# s3_endpoint_url = 'https://play.min.io'\n",
    "# s3_access_key = 'Q3AM3UQ867SPQQA43P2F'\n",
    "# s3_secret_key = 'zuf+tfteSlswRu7BJ86wekitnifILbZam1KYY3TG'\n",
    "# s3_bucket=\"anonymous\"\n",
    "\n",
    "\n",
    "# Create an S3 client\n",
    "s3 = boto3.client(service_name='s3',aws_access_key_id = s3_access_key,aws_secret_access_key = s3_secret_key, endpoint_url=s3_endpoint_url)\n",
    "try:\n",
    "    s3.create_bucket(Bucket=s3_bucket)\n",
    "except:\n",
    "    pass\n",
    "\n"
   ]
  },
  {
   "cell_type": "code",
   "execution_count": 47,
   "metadata": {},
   "outputs": [],
   "source": [
    "# Upload to Rook/Ceph in bucket Open and key uploaded/creditcard-sample10k.csv\n",
    "key = \"creditcard-sample10k.csv\"\n",
    "#s3.upload_file(Bucket=s3_bucket, Key=key, Filename=\"creditcard-sample10k.csv\")\n",
    "\n",
    "#prefix='uploaded/'\n",
    "#result = s3.list_objects(Bucket=s3_bucket, Prefix=prefix, Delimiter='/')\n",
    "#print(result)"
   ]
  },
  {
   "cell_type": "code",
   "execution_count": 48,
   "metadata": {},
   "outputs": [
    {
     "name": "stdout",
     "output_type": "stream",
     "text": [
      "Getting a spark session with the distributed spark cluster running on Openshift \n"
     ]
    }
   ],
   "source": [
    "#Read Data Using Spark\n",
    "import pyspark\n",
    "import time\n",
    "import os\n",
    "import pandas as pd\n",
    "from pyspark.sql import SparkSession\n",
    "from pyspark.sql.functions import *\n",
    "import boto3\n",
    "from sklearn.linear_model import LogisticRegression\n",
    "from sklearn.tree import DecisionTreeClassifier\n",
    "from sklearn.ensemble import RandomForestClassifier\n",
    "from sklearn.neighbors import KNeighborsClassifier\n",
    "from sklearn.svm import SVC\n",
    "from sklearn.naive_bayes import GaussianNB\n",
    "from sklearn.decomposition import PCA\n",
    "from sklearn.metrics import precision_recall_curve,\\\n",
    "                            average_precision_score,\\\n",
    "                            roc_auc_score, roc_curve\n",
    "        \n",
    "print(\"Getting a spark session with the distributed spark cluster running on Openshift \")"
   ]
  },
  {
   "cell_type": "code",
   "execution_count": 49,
   "metadata": {},
   "outputs": [
    {
     "name": "stdout",
     "output_type": "stream",
     "text": [
      "2.4.5\n",
      "Spark Session Success\n"
     ]
    }
   ],
   "source": [
    "#Spark Session\n",
    "# spark_cluster_url = f\"spark://{os.environ['SPARK_CLUSTER']}:7077\"\n",
    "# print(spark_cluster_url)\n",
    "spark = SparkSession.builder.appName(\"odh-pyspark\").getOrCreate()\n",
    "spark = SparkSession.builder.master(\"local[*]\")\\\n",
    "        .appName(\"odh-pyspark-frauddetection\")\\\n",
    "        .getOrCreate()\n",
    "        \n",
    "spark.sparkContext.setLogLevel(\"DEBUG\")\n",
    "print(spark.sparkContext.version)\n",
    "print(\"Spark Session Success\")"
   ]
  },
  {
   "cell_type": "code",
   "execution_count": 50,
   "metadata": {},
   "outputs": [],
   "source": [
    "#Set the Hadoop configurations to access Ceph S3\n",
    "hadoopConf=spark.sparkContext._jsc.hadoopConfiguration()\n",
    "hadoopConf.set(\"fs.s3a.path.style.access\", \"true\");\n",
    "hadoopConf.set(\"spark.hadoop.fs.s3a.impl\", \"org.apache.hadoop.fs.s3a.S3AFileSystem\");\n",
    "hadoopConf.set(\"fs.s3a.access.key\", s3_access_key) \n",
    "hadoopConf.set(\"fs.s3a.secret.key\", s3_secret_key)\n",
    "hadoopConf.set(\"fs.s3a.endpoint\", s3_endpoint_url)\n",
    "hadoopConf.set(\"fs.s3a.connection.ssl.enabled\", 'false')"
   ]
  },
  {
   "cell_type": "code",
   "execution_count": 56,
   "metadata": {},
   "outputs": [
    {
     "name": "stdout",
     "output_type": "stream",
     "text": [
      "Reading from frauddetection\n"
     ]
    }
   ],
   "source": [
    "print(\"Reading from\" , s3_bucket)\n",
    "# data = spark.read.csv('s3a://' + s3_bucket + '/uploaded/creditcard-sample10k.csv',sep=\",\", header=True)\n",
    "# val b1 = sc.textFile(\"s3a://spark-test/test.json\")\n",
    "\n",
    "# data = spark.read.csv('s3a://frauddetection/creditcard-sample10k.csv',sep=\",\", header=True)\n",
    "df = spark.read.format(\"csv\").option(\"header\", \"true\").option(\"inferSchema\", \"True\").option(\"mode\", \"DROPMALFORMED\").load(f\"s3a://{s3_bucket}/creditcard-sample10k.csv\")\n",
    "\n",
    "# df = data.toPandas()\n",
    "# df.head()"
   ]
  },
  {
   "cell_type": "code",
   "execution_count": null,
   "metadata": {},
   "outputs": [],
   "source": []
  },
  {
   "cell_type": "code",
   "execution_count": 57,
   "metadata": {},
   "outputs": [
    {
     "name": "stdout",
     "output_type": "stream",
     "text": [
      "Total number of credit card transaction rows: 10000\n",
      "Total number of rows with fraud\n",
      "38\n"
     ]
    }
   ],
   "source": [
    "print(\"Total number of credit card transaction rows: %s\" % df.count())\n",
    "### Check the total number of rows with fraud is detected\n",
    "print(\"Total number of rows with fraud\")\n",
    "print(df[(df['Class']==1)].count())"
   ]
  },
  {
   "cell_type": "code",
   "execution_count": 58,
   "metadata": {},
   "outputs": [
    {
     "name": "stderr",
     "output_type": "stream",
     "text": [
      "/opt/app-root/lib/python3.6/site-packages/sklearn/externals/joblib/__init__.py:15: FutureWarning: sklearn.externals.joblib is deprecated in 0.21 and will be removed in 0.23. Please import this functionality directly from joblib, which can be installed with: pip install joblib. If this warning is raised when loading pickled models, you may need to re-serialize those models with scikit-learn 0.21+.\n",
      "  warnings.warn(msg, category=FutureWarning)\n"
     ]
    },
    {
     "name": "stdout",
     "output_type": "stream",
     "text": [
      "10000\n",
      "Original Data Schema\n",
      "root\n",
      " |-- _c0: integer (nullable = true)\n",
      " |-- Time: integer (nullable = true)\n",
      " |-- V1: double (nullable = true)\n",
      " |-- V2: double (nullable = true)\n",
      " |-- V3: double (nullable = true)\n",
      " |-- V4: double (nullable = true)\n",
      " |-- V5: double (nullable = true)\n",
      " |-- V6: double (nullable = true)\n",
      " |-- V7: double (nullable = true)\n",
      " |-- V8: double (nullable = true)\n",
      " |-- V9: double (nullable = true)\n",
      " |-- V10: double (nullable = true)\n",
      " |-- V11: double (nullable = true)\n",
      " |-- V12: double (nullable = true)\n",
      " |-- V13: double (nullable = true)\n",
      " |-- V14: double (nullable = true)\n",
      " |-- V15: double (nullable = true)\n",
      " |-- V16: double (nullable = true)\n",
      " |-- V17: double (nullable = true)\n",
      " |-- V18: double (nullable = true)\n",
      " |-- V19: double (nullable = true)\n",
      " |-- V20: double (nullable = true)\n",
      " |-- V21: double (nullable = true)\n",
      " |-- V22: double (nullable = true)\n",
      " |-- V23: double (nullable = true)\n",
      " |-- V24: double (nullable = true)\n",
      " |-- V25: double (nullable = true)\n",
      " |-- V26: double (nullable = true)\n",
      " |-- V27: double (nullable = true)\n",
      " |-- V28: double (nullable = true)\n",
      " |-- Amount: double (nullable = true)\n",
      " |-- Class: integer (nullable = true)\n",
      "\n",
      "Number of train transactions: %s 7500\n",
      "Number of test  transactions: %s 2500\n",
      "Number of features\n",
      "29\n"
     ]
    }
   ],
   "source": [
    "import numpy as np\n",
    "import pandas as pd\n",
    "from sklearn.ensemble import RandomForestRegressor\n",
    "from sklearn.externals import joblib\n",
    "\n",
    "#Order the credit card transaction by transaction time\n",
    "df.orderBy(\"Time\")\n",
    "\n",
    "#number of rows in the dataset\n",
    "n_samples = df.count()\n",
    "print(n_samples)\n",
    "\n",
    "#Split into train and test\n",
    "train_size = 0.75\n",
    "\n",
    "train_limit = int(n_samples * train_size)\n",
    "df_train = df.limit(train_limit)     \n",
    "df_test = df.subtract(df_train) \n",
    "\n",
    "#Data Schema\n",
    "print(\"Original Data Schema\")\n",
    "df_test.printSchema()\n",
    "\n",
    "print('Number of train transactions: %s', df_train.count())\n",
    "print('Number of test  transactions: %s', df_test.count())\n",
    "\n",
    "#Define features and target variables for convenience.\n",
    "drop_time_class = ['_c0', 'Time', 'Class']\n",
    "drop_class=['Class']\n",
    "\n",
    "#Create Train Datasets\n",
    "features_train = df_train.drop(*drop_time_class)\n",
    "target_train = df_train.select(\"Class\")\n",
    "\n",
    "#Create Test Datasets\n",
    "features_test = df_test.drop(*drop_time_class)\n",
    "target_test = df_test.select(\"Class\")\n",
    "\n",
    "#Create a RondomForest Classifier mode\n",
    "model = RandomForestClassifier(n_estimators=100, max_depth=4, n_jobs=10)\n",
    "\n",
    "#Convert to pandas\n",
    "features_test_pd = features_test.toPandas()\n",
    "target_test_pd = target_test.toPandas()\n",
    "\n",
    "features_train_pd = features_train.toPandas()\n",
    "target_train_pd = target_train.toPandas()\n",
    "\n",
    "model.fit(features_train_pd, target_train_pd.values.ravel())\n",
    "\n",
    "pred_train = model.predict(features_train_pd)\n",
    "pred_test = model.predict(features_test_pd)\n",
    "\n",
    "pred_train_prob = model.predict_proba(features_train_pd)\n",
    "pred_test_prob = model.predict_proba(features_test_pd)\n",
    "\n",
    "print(\"Number of features\")\n",
    "print(len(model.feature_importances_))"
   ]
  },
  {
   "cell_type": "code",
   "execution_count": 59,
   "metadata": {},
   "outputs": [
    {
     "name": "stdout",
     "output_type": "stream",
     "text": [
      "Requirement already satisfied: matplotlib in /opt/app-root/lib/python3.6/site-packages (3.2.0)\n",
      "Requirement already satisfied: numpy>=1.11 in /opt/app-root/lib/python3.6/site-packages (from matplotlib) (1.18.1)\n",
      "Requirement already satisfied: python-dateutil>=2.1 in /opt/app-root/lib/python3.6/site-packages (from matplotlib) (2.8.1)\n",
      "Requirement already satisfied: kiwisolver>=1.0.1 in /opt/app-root/lib/python3.6/site-packages (from matplotlib) (1.1.0)\n",
      "Requirement already satisfied: pyparsing!=2.0.4,!=2.1.2,!=2.1.6,>=2.0.1 in /opt/app-root/lib/python3.6/site-packages (from matplotlib) (2.4.6)\n",
      "Requirement already satisfied: cycler>=0.10 in /opt/app-root/lib/python3.6/site-packages (from matplotlib) (0.10.0)\n",
      "Requirement already satisfied: six>=1.5 in /opt/app-root/lib/python3.6/site-packages (from python-dateutil>=2.1->matplotlib) (1.14.0)\n",
      "Requirement already satisfied: setuptools in /opt/app-root/lib/python3.6/site-packages (from kiwisolver>=1.0.1->matplotlib) (46.0.0)\n"
     ]
    },
    {
     "name": "stderr",
     "output_type": "stream",
     "text": [
      "WARNING: You are using pip version 20.0.2; however, version 20.2 is available.\n",
      "You should consider upgrading via the '/opt/app-root/bin/python3 -m pip install --upgrade pip' command.\n"
     ]
    }
   ],
   "source": [
    "%%bash\n",
    "pip3 install matplotlib"
   ]
  },
  {
   "cell_type": "code",
   "execution_count": 60,
   "metadata": {},
   "outputs": [
    {
     "name": "stdout",
     "output_type": "stream",
     "text": [
      "0    7475\n",
      "1      25\n",
      "Name: Class, dtype: int64\n",
      "[0, 1]\n",
      "[0, 1]\n"
     ]
    },
    {
     "data": {
      "image/png": "[encoded data removed]",
      "text/plain": [
       "<Figure size 432x432 with 1 Axes>"
      ]
     },
     "metadata": {
      "needs_background": "light"
     },
     "output_type": "display_data"
    },
    {
     "data": {
      "image/png": "[encoded data removed]",
      "text/plain": [
       "<Figure size 432x432 with 1 Axes>"
      ]
     },
     "metadata": {
      "needs_background": "light"
     },
     "output_type": "display_data"
    }
   ],
   "source": [
    "import matplotlib.pylab as plt\n",
    "import matplotlib.colors\n",
    "from sklearn.metrics import precision_recall_curve,\\\n",
    "                            average_precision_score,\\\n",
    "                            roc_auc_score, roc_curve,\\\n",
    "                            confusion_matrix, classification_report\n",
    "\n",
    "def plot_confusion_matrix(train_labels, train_pred):\n",
    "    fig = plt.figure(figsize=(6,6))\n",
    "    ax = plt.subplot()\n",
    "\n",
    "    labels = list(train_labels['Class'].value_counts().index)\n",
    "    print(labels)\n",
    "\n",
    "    confusion = confusion_matrix(train_labels, train_pred, labels=labels)\n",
    "    ax.matshow(np.log(confusion + 1.001))\n",
    "\n",
    "    ax.set_xticks(range(len(labels)))\n",
    "    ax.set_yticks(range(len(labels)))\n",
    "\n",
    "    ax.set_xticklabels(labels, rotation=90);\n",
    "    ax.set_yticklabels(labels);\n",
    "\n",
    "    for i in range(len(labels)):\n",
    "        for j in range(len(labels)):        \n",
    "            ax.text(j, i, confusion[i,j], va='center', ha='center')\n",
    "\n",
    "    plt.xlabel('predicted')    \n",
    "    plt.ylabel('true')\n",
    "    \n",
    "    return fig\n",
    "\n",
    "print(target_train_pd['Class'].value_counts())\n",
    "\n",
    "_=plot_confusion_matrix(target_train_pd, model.predict(features_train_pd))\n",
    "\n",
    "_=plot_confusion_matrix(target_test_pd, model.predict(features_test_pd))"
   ]
  },
  {
   "cell_type": "code",
   "execution_count": 61,
   "metadata": {},
   "outputs": [
    {
     "data": {
      "image/png": "[encoded data removed]",
      "text/plain": [
       "<Figure size 720x720 with 1 Axes>"
      ]
     },
     "metadata": {
      "needs_background": "light"
     },
     "output_type": "display_data"
    }
   ],
   "source": [
    "%matplotlib inline\n",
    "import operator\n",
    "import matplotlib.pylab as plt\n",
    "\n",
    "feat_imp = sorted(zip(features_train_pd.columns, model.feature_importances_), key=operator.itemgetter(1), reverse=True)\n",
    "plt.figure(figsize=(10,10))\n",
    "plt.plot([i[0] for i in feat_imp], [i[1] for i in feat_imp], 'p-')\n",
    "_ = plt.xticks(rotation=90)"
   ]
  },
  {
   "cell_type": "code",
   "execution_count": 62,
   "metadata": {},
   "outputs": [
    {
     "name": "stdout",
     "output_type": "stream",
     "text": [
      "root\n",
      " |-- V3: double (nullable = true)\n",
      " |-- V4: double (nullable = true)\n",
      " |-- V10: double (nullable = true)\n",
      " |-- V11: double (nullable = true)\n",
      " |-- V12: double (nullable = true)\n",
      " |-- V14: double (nullable = true)\n",
      " |-- V17: double (nullable = true)\n",
      " |-- Amount: double (nullable = true)\n",
      "\n",
      "Number of features\n",
      "8\n"
     ]
    },
    {
     "data": {
      "text/plain": [
       "['model.pkl']"
      ]
     },
     "execution_count": 62,
     "metadata": {},
     "output_type": "execute_result"
    }
   ],
   "source": [
    "#Define features and target variables for convenience.\n",
    "## From the graph we only want seven important features V3,V4,V10,V11,V12,V14,V17\n",
    "drop_time_class = ['_c0', 'Time', 'Class','V1','V2','V5','V6','V7','V8','V9','V13','V15','V16','V18','V19','V20','V21','V22','V23','V24','V25','V26','V27','V28']\n",
    "drop_class=['Class']\n",
    "\n",
    "\n",
    "features_train = df_train.drop(*drop_time_class)\n",
    "target_train = df_train.select(\"Class\")\n",
    "\n",
    "features_test = df_test.drop(*drop_time_class)\n",
    "target_test = df_test.select(\"Class\")\n",
    "features_test.printSchema()\n",
    "\n",
    "model = RandomForestClassifier(n_estimators=200, max_depth=6, n_jobs=10, class_weight='balanced')\n",
    "                               \n",
    "#Convert to pandas\n",
    "features_test_pd = features_test.toPandas()\n",
    "target_test_pd = target_test.toPandas()\n",
    "\n",
    "features_train_pd = features_train.toPandas()\n",
    "target_train_pd = target_train.toPandas()\n",
    "\n",
    "model.fit(features_train_pd, target_train_pd.values.ravel())\n",
    "\n",
    "pred_train = model.predict(features_train_pd)\n",
    "pred_test = model.predict(features_test_pd)\n",
    "\n",
    "pred_train_prob = model.predict_proba(features_train_pd)\n",
    "pred_test_prob = model.predict_proba(features_test_pd)\n",
    "\n",
    "print(\"Number of features\")\n",
    "print(len(model.feature_importances_))\n",
    "  \n",
    "#save mode in filesystem\n",
    "joblib.dump(model, 'model.pkl') "
   ]
  },
  {
   "cell_type": "code",
   "execution_count": 63,
   "metadata": {},
   "outputs": [
    {
     "name": "stdout",
     "output_type": "stream",
     "text": [
      "[0, 1]\n",
      "[0, 1]\n"
     ]
    },
    {
     "data": {
      "image/png": "[encoded data removed]",
      "text/plain": [
       "<Figure size 432x432 with 1 Axes>"
      ]
     },
     "metadata": {
      "needs_background": "light"
     },
     "output_type": "display_data"
    },
    {
     "data": {
      "image/png": "[encoded data removed]",
      "text/plain": [
       "<Figure size 432x432 with 1 Axes>"
      ]
     },
     "metadata": {
      "needs_background": "light"
     },
     "output_type": "display_data"
    }
   ],
   "source": [
    "_ = plot_confusion_matrix(target_train_pd, model.predict(features_train_pd))\n",
    "\n",
    "_ = plot_confusion_matrix(target_test_pd, model.predict(features_test_pd))"
   ]
  },
  {
   "cell_type": "code",
   "execution_count": 64,
   "metadata": {},
   "outputs": [
    {
     "name": "stdout",
     "output_type": "stream",
     "text": [
      "[1]\n",
      "[1]\n",
      "[1]\n",
      "[1]\n",
      "[1]\n",
      "[1]\n",
      "[1]\n",
      "[0]\n",
      "[1]\n",
      "[1]\n",
      "[1]\n",
      "[1]\n",
      "[1]\n"
     ]
    }
   ],
   "source": [
    "import json\n",
    "import pandas as pd\n",
    "import numpy as np\n",
    "import time\n",
    "\n",
    "\n",
    "df_test_pandas = df_test.toPandas()\n",
    "fraudTest = df_test_pandas.loc[df_test_pandas['Class']== 1]\n",
    "notFraudTest = df_test_pandas.loc[df_test_pandas['Class']== 0]\n",
    "\n",
    "fraudTestFeatures = fraudTest.drop(columns=['Time','Class', '_c0','V1','V2','V5','V6','V7','V8','V9','V13','V15','V16','V18','V19','V20','V21','V22','V23','V24','V25','V26','V27','V28'])\n",
    "notFraudTestFeatures = notFraudTest.drop(columns=['Time','Class', '_c0','V1','V2','V5','V6','V7','V8','V9','V13','V15','V16','V18','V19','V20','V21','V22','V23','V24','V25','V26','V27','V28'])\n",
    "\n",
    "for index, row in fraudTestFeatures.iterrows():\n",
    "    data = row\n",
    "    rowdf = pd.DataFrame([data.tolist()], columns = ['V3','V4','V10','V11','V12','V14','V17','Amount'])\n",
    "    print(model.predict(rowdf))\n",
    "    time.sleep(2)\n"
   ]
  },
  {
   "cell_type": "code",
   "execution_count": 65,
   "metadata": {},
   "outputs": [
    {
     "name": "stdout",
     "output_type": "stream",
     "text": [
      "{'ResponseMetadata': {'RequestId': '16263C0322A68CC3', 'HostId': '', 'HTTPStatusCode': 200, 'HTTPHeaders': {'accept-ranges': 'bytes', 'content-length': '635', 'content-security-policy': 'block-all-mixed-content', 'content-type': 'application/xml', 'server': 'MinIO/RELEASE.2020-07-02T00-15-09Z', 'vary': 'Origin', 'x-amz-request-id': '16263C0322A68CC3', 'x-xss-protection': '1; mode=block', 'date': 'Wed, 29 Jul 2020 13:25:02 GMT'}, 'RetryAttempts': 0}, 'IsTruncated': False, 'Marker': '', 'Contents': [{'Key': 'uploaded/model.pkl', 'LastModified': datetime.datetime(2020, 7, 29, 13, 25, 1, 968000, tzinfo=tzlocal()), 'ETag': '\"5ac43106a8cc1767f0ea6b809e363c8d\"', 'Size': 247582, 'StorageClass': 'STANDARD', 'Owner': {'DisplayName': '', 'ID': '02d6176db174dc93cb1b899f7c6078f08654445fe8cf1b6ce98d8855f66bdbf4'}}], 'Name': 'frauddetection', 'Prefix': 'uploaded/', 'Delimiter': '/', 'MaxKeys': 50000, 'EncodingType': 'url'}\n"
     ]
    }
   ],
   "source": [
    "import boto3\n",
    "\n",
    "key = \"uploaded/model.pkl\"\n",
    "s3.upload_file(Bucket=s3_bucket, Key=key, Filename=\"model.pkl\")\n",
    "prefix='uploaded/'\n",
    "result = s3.list_objects(Bucket=s3_bucket, Prefix=prefix, Delimiter='/')\n",
    "print(result)"
   ]
  },
  {
   "cell_type": "code",
   "execution_count": null,
   "metadata": {},
   "outputs": [],
   "source": []
  },
  {
   "cell_type": "code",
   "execution_count": 71,
   "metadata": {},
   "outputs": [
    {
     "name": "stdout",
     "output_type": "stream",
     "text": [
      "Login successful.\n",
      "\n",
      "You have access to 72 projects, the list has been suppressed. You can list all projects with 'oc projects'\n",
      "\n",
      "Using project \"default\".\n",
      "Welcome! See 'oc help' to get started.\n",
      "Now using project \"odhk\" on server \"https://api.crc.testing:6443\".\n"
     ]
    }
   ],
   "source": [
    "%%bash\n",
    "oc login --insecure-skip-tls-verify -u kubeadmin -p fq66o-KsVBU-cnKBU-xLpqd https://api.crc.testing:6443\n",
    "oc project odhk"
   ]
  }
 ],
 "metadata": {
  "kernelspec": {
   "display_name": "Python 3",
   "language": "python",
   "name": "python3"
  },
  "language_info": {
   "codemirror_mode": {
    "name": "ipython",
    "version": 3
   },
   "file_extension": ".py",
   "mimetype": "text/x-python",
   "name": "python",
   "nbconvert_exporter": "python",
   "pygments_lexer": "ipython3",
   "version": "3.6.9"
  }
 },
 "nbformat": 4,
 "nbformat_minor": 4
}
